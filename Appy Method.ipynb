{
 "cells": [
  {
   "cell_type": "code",
   "execution_count": 1,
   "id": "6415451a",
   "metadata": {},
   "outputs": [],
   "source": [
    "import pandas as pd"
   ]
  },
  {
   "cell_type": "code",
   "execution_count": 2,
   "id": "54aa22c2",
   "metadata": {},
   "outputs": [],
   "source": [
    "data=pd.DataFrame(data={'name':['ricky ponting','mark waugh','damein martin'],'age':[23,27,32],'salary':[1200,1400,1700]})\n"
   ]
  },
  {
   "cell_type": "markdown",
   "id": "2cc02c8c",
   "metadata": {},
   "source": [
    "# Interating over data frame and creating new columns using iterrows function"
   ]
  },
  {
   "cell_type": "code",
   "execution_count": 3,
   "id": "5a30d603",
   "metadata": {},
   "outputs": [],
   "source": [
    "for index,rows in data.iterrows():\n",
    "    if rows['salary']>1500:\n",
    "        data.loc[index,'grade']='Grade 2'\n",
    "        data.loc[index,'level']='Level 1'\n",
    "        data.loc[index,'new_salary']=rows['salary']+rows['salary']*0.5\n",
    "    else:\n",
    "        data.loc[index,'grade']='Grade 1'\n",
    "        data.loc[index,'level']='Level 2'\n",
    "        data.loc[index,'new_salary']=rows['salary']+rows['salary']*0.2\n",
    "        "
   ]
  },
  {
   "cell_type": "code",
   "execution_count": 4,
   "id": "f3db67e6",
   "metadata": {},
   "outputs": [],
   "source": [
    "for index,row in data.iterrows():\n",
    "    data.loc[index,'fn']=row['name'].split()[0]\n",
    "    data.loc[index,'ln']=row['name'].split()[1]"
   ]
  },
  {
   "cell_type": "markdown",
   "id": "f7c0db7f",
   "metadata": {},
   "source": [
    "# Interating over data frame and creating new columns using apply function"
   ]
  },
  {
   "cell_type": "code",
   "execution_count": 5,
   "id": "1afa08c2",
   "metadata": {},
   "outputs": [],
   "source": [
    "def update(data):\n",
    "    if data['salary']>1500:\n",
    "        return ['Grade 1','Level 1',data['salary']+data['salary']*0.9]\n",
    "    else:\n",
    "        return ['Grade 2','Level 2',data['salary']+data['salary']*0.7]\n",
    "    \n",
    "\n",
    "data[['grade','level','new_salary']]=data.apply(update,axis=1,result_type='expand')\n",
    "    "
   ]
  },
  {
   "cell_type": "code",
   "execution_count": 6,
   "id": "a7640f73",
   "metadata": {},
   "outputs": [],
   "source": [
    "def grader(data):\n",
    "    if data['salary']>1000 and data['age']>30:\n",
    "        return ['Captain','Grade 333']\n",
    "    else:\n",
    "        return ['Vice-captain','Grade 444']\n",
    "\n",
    "data[['leader2','official2']]=data.apply(grader,axis=1,result_type='expand')"
   ]
  },
  {
   "cell_type": "code",
   "execution_count": 7,
   "id": "96d295dc",
   "metadata": {},
   "outputs": [],
   "source": [
    "def splitname(data):\n",
    "    x=data['name'].split()[0]\n",
    "    y=data['name'].split()[1]\n",
    "    return[x,y]\n",
    "\n",
    "data[['First_name','Last_name']]=data.apply(splitname,axis=1,result_type='expand')"
   ]
  },
  {
   "cell_type": "code",
   "execution_count": 9,
   "id": "972f5966",
   "metadata": {},
   "outputs": [],
   "source": [
    "#data"
   ]
  }
 ],
 "metadata": {
  "kernelspec": {
   "display_name": "Python 3 (ipykernel)",
   "language": "python",
   "name": "python3"
  },
  "language_info": {
   "codemirror_mode": {
    "name": "ipython",
    "version": 3
   },
   "file_extension": ".py",
   "mimetype": "text/x-python",
   "name": "python",
   "nbconvert_exporter": "python",
   "pygments_lexer": "ipython3",
   "version": "3.9.12"
  }
 },
 "nbformat": 4,
 "nbformat_minor": 5
}
