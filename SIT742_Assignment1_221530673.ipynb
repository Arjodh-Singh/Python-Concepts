{
  "cells": [
    {
      "cell_type": "markdown",
      "metadata": {
        "id": "view-in-github",
        "colab_type": "text"
      },
      "source": [
        "<a href=\"https://colab.research.google.com/github/Arjodh-Singh/Python-Concepts/blob/main/SIT742_Assignment1_221530673.ipynb\" target=\"_parent\"><img src=\"https://colab.research.google.com/assets/colab-badge.svg\" alt=\"Open In Colab\"/></a>"
      ]
    },
    {
      "cell_type": "markdown",
      "source": [
        "StudentID: 221530673<br>\n",
        "StudentName: Arjodh Singh<br>\n",
        "Assessment Task 1- SIT742-Modern Data Science"
      ],
      "metadata": {
        "id": "_KK4wBgSDCqG"
      },
      "id": "_KK4wBgSDCqG"
    },
    {
      "cell_type": "markdown",
      "source": [
        "Part 1<br>\n",
        "Answer 1.1"
      ],
      "metadata": {
        "id": "avf6ZH95D7Af"
      },
      "id": "avf6ZH95D7Af"
    },
    {
      "cell_type": "code",
      "source": [
        "def avg_sd(ages):\n",
        "\n",
        "  ''' It is a function to calculate averages and standard deviation'''\n",
        "  # Intialise sums to zero\n",
        "  sums=0\n",
        "  sums2=0\n",
        "    # Loop through the ages and calculate averages\n",
        "  for i in ages:\n",
        "\n",
        "    sums=sums+i\n",
        "    averages=sums/len(ages)\n",
        "     # Round to 2 decimal places\n",
        "    averages=round(averages,2)\n",
        "\n",
        "  for i in ages:\n",
        "      # Take difference of values from mean and square it\n",
        "      temp=i-averages\n",
        "      temp=temp**2\n",
        "      sums2=sums2+temp\n",
        "  sums2=sums2/len(ages)\n",
        "    # Take square root of the value\n",
        "  sd=sums2**(1/2)\n",
        "    # Round to 2 decimal places\n",
        "  sd=round(sd,2)\n",
        "  print('The avarage of ages is: ',averages)\n",
        "  print('The standard deviation of ages is: ',sd)"
      ],
      "metadata": {
        "id": "U9ZxN1rqEVX3"
      },
      "id": "U9ZxN1rqEVX3",
      "execution_count": null,
      "outputs": []
    },
    {
      "cell_type": "code",
      "source": [
        "avg_sd.__doc__"
      ],
      "metadata": {
        "colab": {
          "base_uri": "https://localhost:8080/",
          "height": 35
        },
        "id": "dDTM-mTZI03A",
        "outputId": "8acfe2d1-ad68-4c3d-b14d-06e46d2172e4"
      },
      "id": "dDTM-mTZI03A",
      "execution_count": null,
      "outputs": [
        {
          "output_type": "execute_result",
          "data": {
            "text/plain": [
              "' It is a function to calculate averages and standard deviation'"
            ],
            "application/vnd.google.colaboratory.intrinsic+json": {
              "type": "string"
            }
          },
          "metadata": {},
          "execution_count": 34
        }
      ]
    },
    {
      "cell_type": "code",
      "source": [
        "ages = [5,31,43,48,50,41,7,11,15,39,80,82,32,2,8,6,25,36,27,61,31]"
      ],
      "metadata": {
        "id": "5mX9s24uGVb8"
      },
      "id": "5mX9s24uGVb8",
      "execution_count": null,
      "outputs": []
    },
    {
      "cell_type": "code",
      "source": [
        "avg_sd(ages)\n"
      ],
      "metadata": {
        "colab": {
          "base_uri": "https://localhost:8080/"
        },
        "id": "yt1SpChpGz49",
        "outputId": "8aed41bf-1f84-48f6-e2f3-2098a0c52cd3"
      },
      "id": "yt1SpChpGz49",
      "execution_count": null,
      "outputs": [
        {
          "output_type": "stream",
          "name": "stdout",
          "text": [
            "The avarage of ages is:  32.38\n",
            "The standard deviation of ages is:  22.68\n"
          ]
        }
      ]
    },
    {
      "cell_type": "markdown",
      "source": [
        "Answer 1.2"
      ],
      "metadata": {
        "id": "O6_FVZMTJUXd"
      },
      "id": "O6_FVZMTJUXd"
    },
    {
      "cell_type": "code",
      "source": [
        "def merge_sort(list1,list2):\n",
        "  '''It is a function to merge and sort the list and remove duplicates'''\n",
        "  # Merge the two lists\n",
        "  temp=list1+list2\n",
        "  # Sort in ascending order\n",
        "  temp=sorted(temp)\n",
        "  # Remove duplicates by set function\n",
        "  temp2=set(temp)\n",
        "  print('Sorted list is : ',temp)\n",
        "  print('Unique list is : ',temp2)\n"
      ],
      "metadata": {
        "id": "P63Y_gnjKAyp"
      },
      "id": "P63Y_gnjKAyp",
      "execution_count": null,
      "outputs": []
    },
    {
      "cell_type": "code",
      "source": [
        "merge_sort.__doc__"
      ],
      "metadata": {
        "colab": {
          "base_uri": "https://localhost:8080/",
          "height": 35
        },
        "id": "zZVtS8i5MF27",
        "outputId": "95af20bc-2015-440b-c800-0f20b1e7b03a"
      },
      "id": "zZVtS8i5MF27",
      "execution_count": null,
      "outputs": [
        {
          "output_type": "execute_result",
          "data": {
            "text/plain": [
              "'It is a function to merge and sort the list and remove duplicates'"
            ],
            "application/vnd.google.colaboratory.intrinsic+json": {
              "type": "string"
            }
          },
          "metadata": {},
          "execution_count": 47
        }
      ]
    },
    {
      "cell_type": "code",
      "source": [
        "list1=[1,2,4]\n",
        "list2=[1,3,4]\n",
        "merge_sort(list1,list2)"
      ],
      "metadata": {
        "colab": {
          "base_uri": "https://localhost:8080/"
        },
        "id": "UqSK_Y6cKacQ",
        "outputId": "e040e9ae-058b-4deb-bf28-5f1ea40fc6cf"
      },
      "id": "UqSK_Y6cKacQ",
      "execution_count": null,
      "outputs": [
        {
          "output_type": "stream",
          "name": "stdout",
          "text": [
            "Sorted list is :  [1, 1, 2, 3, 4, 4]\n",
            "Unique list is :  {1, 2, 3, 4}\n"
          ]
        }
      ]
    },
    {
      "cell_type": "markdown",
      "source": [
        "Answer 1.3"
      ],
      "metadata": {
        "id": "JnalhgKeNJ4e"
      },
      "id": "JnalhgKeNJ4e"
    },
    {
      "cell_type": "code",
      "execution_count": null,
      "id": "1a144c6e",
      "metadata": {
        "id": "1a144c6e"
      },
      "outputs": [],
      "source": [
        "def Valid_Invalid(Mobiles):\n",
        "\n",
        "\n",
        "  '''It is a function to verify whether mobile number is valid or not'''\n",
        "  # Loop through each mobile\n",
        "  for mobile in Mobiles:\n",
        "\n",
        "    #checking length of each mobile\n",
        "      if len(mobile)<11:\n",
        "          print('Mobile '+ mobile+' is not valid as its length is ', len(mobile))\n",
        "\n",
        "      else:\n",
        "        # Checking last digit of the mobile\n",
        "          if mobile[-1]=='3':\n",
        "              print('Its valid mobile number and the last digit of '+mobile+' is 3')\n",
        "\n",
        "\n",
        "          elif mobile[-1]!='3':\n",
        "              print('Its valid mobile number but the last digit of '+mobile+' is not 3')"
      ]
    },
    {
      "cell_type": "code",
      "execution_count": null,
      "id": "b762e3c3",
      "metadata": {
        "colab": {
          "base_uri": "https://localhost:8080/",
          "height": 35
        },
        "id": "b762e3c3",
        "outputId": "37b0c4e6-3cb1-43c7-9e71-7e2b4009227e"
      },
      "outputs": [
        {
          "output_type": "execute_result",
          "data": {
            "text/plain": [
              "'It is a function to verify whether mobile number is valid or not'"
            ],
            "application/vnd.google.colaboratory.intrinsic+json": {
              "type": "string"
            }
          },
          "metadata": {},
          "execution_count": 62
        }
      ],
      "source": [
        "Valid_Invalid.__doc__"
      ]
    },
    {
      "cell_type": "code",
      "execution_count": null,
      "id": "d3b5ace3",
      "metadata": {
        "colab": {
          "base_uri": "https://localhost:8080/"
        },
        "id": "d3b5ace3",
        "outputId": "474fb56a-760b-4589-f16d-bb36409d2199"
      },
      "outputs": [
        {
          "output_type": "stream",
          "name": "stdout",
          "text": [
            "Its valid mobile number and the last digit of 10009091003 is 3\n",
            "Mobile 1000829331 is not valid as its length is  10\n",
            "Its valid mobile number but the last digit of 10007838282 is not 3\n",
            "Mobile 130001002 is not valid as its length is  9\n"
          ]
        }
      ],
      "source": [
        "Mobiles=['10009091003','1000829331','10007838282','130001002']\n",
        "Valid_Invalid(Mobiles)"
      ]
    },
    {
      "cell_type": "markdown",
      "source": [
        "Answer 1.4"
      ],
      "metadata": {
        "id": "KBOeBnzzPfZB"
      },
      "id": "KBOeBnzzPfZB"
    },
    {
      "cell_type": "code",
      "execution_count": null,
      "id": "95dda97a",
      "metadata": {
        "id": "95dda97a"
      },
      "outputs": [],
      "source": [
        "def Star_Design(stars):\n",
        "\n",
        "    '''It is a function to print star pattern by required value of star'''\n",
        "    # Loop through each star\n",
        "    for star in range(1,stars):\n",
        "        print(star*'*')"
      ]
    },
    {
      "cell_type": "code",
      "execution_count": null,
      "id": "dba8bfb0",
      "metadata": {
        "colab": {
          "base_uri": "https://localhost:8080/",
          "height": 35
        },
        "id": "dba8bfb0",
        "outputId": "92cc4e7b-959c-4a5d-dbe2-d48fe6e92e43"
      },
      "outputs": [
        {
          "output_type": "execute_result",
          "data": {
            "text/plain": [
              "'It is a function to print star pattern by required value of star'"
            ],
            "application/vnd.google.colaboratory.intrinsic+json": {
              "type": "string"
            }
          },
          "metadata": {},
          "execution_count": 77
        }
      ],
      "source": [
        "Star_Design.__doc__"
      ]
    },
    {
      "cell_type": "code",
      "execution_count": null,
      "id": "998d01d5",
      "metadata": {
        "colab": {
          "base_uri": "https://localhost:8080/"
        },
        "id": "998d01d5",
        "outputId": "080f06d3-9ce2-48b5-951d-5de92544d060"
      },
      "outputs": [
        {
          "output_type": "stream",
          "name": "stdout",
          "text": [
            "*\n",
            "**\n",
            "***\n",
            "****\n",
            "*****\n"
          ]
        }
      ],
      "source": [
        "Star_Design(6)"
      ]
    },
    {
      "cell_type": "markdown",
      "source": [
        "Answer 1.5"
      ],
      "metadata": {
        "id": "Di6nhX4EP-EG"
      },
      "id": "Di6nhX4EP-EG"
    },
    {
      "cell_type": "code",
      "source": [
        "def print_element_list(lst):\n",
        "  ''' It is a function to print each element from the nested list'''\n",
        "  # Loop through each item\n",
        "  for item in lst:\n",
        "      # Check if item is list or non-list\n",
        "      if isinstance(item, list):\n",
        "          # If list use recursive function and call itself again\n",
        "          print_element_list(item)\n",
        "      else:\n",
        "          print(item)"
      ],
      "metadata": {
        "id": "9qqGfytWQO5-"
      },
      "id": "9qqGfytWQO5-",
      "execution_count": null,
      "outputs": []
    },
    {
      "cell_type": "code",
      "source": [
        "print_element_list.__doc__"
      ],
      "metadata": {
        "colab": {
          "base_uri": "https://localhost:8080/",
          "height": 35
        },
        "id": "qIh0BNSqQ1xi",
        "outputId": "cab2e412-8725-45ef-9ab2-e5388430723b"
      },
      "id": "qIh0BNSqQ1xi",
      "execution_count": null,
      "outputs": [
        {
          "output_type": "execute_result",
          "data": {
            "text/plain": [
              "' It is a function to print each element from the nested list'"
            ],
            "application/vnd.google.colaboratory.intrinsic+json": {
              "type": "string"
            }
          },
          "metadata": {},
          "execution_count": 87
        }
      ]
    },
    {
      "cell_type": "code",
      "source": [
        "A = [1,2,3,[4,5,['x1',6,[1,2,3,'sit742']]]]"
      ],
      "metadata": {
        "id": "yF-NXFgfQw1Y"
      },
      "id": "yF-NXFgfQw1Y",
      "execution_count": null,
      "outputs": []
    },
    {
      "cell_type": "code",
      "source": [
        "print_element_list(A)"
      ],
      "metadata": {
        "colab": {
          "base_uri": "https://localhost:8080/"
        },
        "id": "kWYew0fiRQbg",
        "outputId": "8e48c7ef-2900-484a-c117-5f2736758e35"
      },
      "id": "kWYew0fiRQbg",
      "execution_count": null,
      "outputs": [
        {
          "output_type": "stream",
          "name": "stdout",
          "text": [
            "1\n",
            "2\n",
            "3\n",
            "4\n",
            "5\n",
            "x1\n",
            "6\n",
            "1\n",
            "2\n",
            "3\n",
            "sit742\n"
          ]
        }
      ]
    },
    {
      "cell_type": "markdown",
      "source": [
        "Answer 1.6"
      ],
      "metadata": {
        "id": "WSAADrUESINP"
      },
      "id": "WSAADrUESINP"
    },
    {
      "cell_type": "code",
      "source": [
        "def sort_dict(dict1):\n",
        "  ''' It is a function to sort dictionary as per values of age in ascending order'''\n",
        "  # Sort the dictionary by sorted function by age\n",
        "  dict1=sorted(dict1,key=lambda x:x['age'])\n",
        "  print('The sorted dictionary as per age is : ',dict1)\n"
      ],
      "metadata": {
        "id": "u5o_c6c_Sc_B"
      },
      "id": "u5o_c6c_Sc_B",
      "execution_count": null,
      "outputs": []
    },
    {
      "cell_type": "code",
      "source": [
        "sort_dict.__doc__"
      ],
      "metadata": {
        "colab": {
          "base_uri": "https://localhost:8080/",
          "height": 35
        },
        "id": "D41d16ELTSVD",
        "outputId": "3921f85a-d8e6-4ad9-bc90-684a4220ba72"
      },
      "id": "D41d16ELTSVD",
      "execution_count": null,
      "outputs": [
        {
          "output_type": "execute_result",
          "data": {
            "text/plain": [
              "' It is a function to sort dictionary as per values of age in ascending order'"
            ],
            "application/vnd.google.colaboratory.intrinsic+json": {
              "type": "string"
            }
          },
          "metadata": {},
          "execution_count": 100
        }
      ]
    },
    {
      "cell_type": "code",
      "source": [
        "dict1=[{'name':'a','age':55}, {'name':'b','age':30}, {'name':'c','age':50}]"
      ],
      "metadata": {
        "id": "YG93nqf-St0z"
      },
      "id": "YG93nqf-St0z",
      "execution_count": null,
      "outputs": []
    },
    {
      "cell_type": "code",
      "source": [
        "sort_dict(dict1)"
      ],
      "metadata": {
        "colab": {
          "base_uri": "https://localhost:8080/"
        },
        "id": "sCJX5Qa-SxdW",
        "outputId": "a02d1c89-bffc-4906-9f30-7dcd4d96fedd"
      },
      "id": "sCJX5Qa-SxdW",
      "execution_count": null,
      "outputs": [
        {
          "output_type": "stream",
          "name": "stdout",
          "text": [
            "The sorted dictionary as per age is :  [{'name': 'b', 'age': 30}, {'name': 'c', 'age': 50}, {'name': 'a', 'age': 55}]\n"
          ]
        }
      ]
    },
    {
      "cell_type": "markdown",
      "source": [
        "Answer 1.7"
      ],
      "metadata": {
        "id": "0_D3TRP0Te-w"
      },
      "id": "0_D3TRP0Te-w"
    },
    {
      "cell_type": "code",
      "execution_count": null,
      "id": "5b1bd8b0",
      "metadata": {
        "id": "5b1bd8b0"
      },
      "outputs": [],
      "source": [
        "def sum_digits(student_id):\n",
        "\n",
        "  ''' It is a function to calculate sum of digits of student_id and verify if its even or odd'''\n",
        "  sum=0\n",
        "  for digit in student_id:\n",
        "    # Loop through each digits and add to previous digit\n",
        "      sum=sum+int(digit)\n",
        "  print('The sum of digits of student_id is : ',sum)\n",
        "  if sum//2==0:\n",
        "    print('The student id :',student_id,' is even')\n",
        "  else:\n",
        "    print('The student id :',student_id,' is odd')\n"
      ]
    },
    {
      "cell_type": "code",
      "source": [
        "sum_digits.__doc__"
      ],
      "metadata": {
        "colab": {
          "base_uri": "https://localhost:8080/",
          "height": 35
        },
        "id": "-Eo-mWVmVPHu",
        "outputId": "71cbd381-bdd8-4c80-c8cd-6dd15117010e"
      },
      "id": "-Eo-mWVmVPHu",
      "execution_count": null,
      "outputs": [
        {
          "output_type": "execute_result",
          "data": {
            "text/plain": [
              "' It is a function to calculate sum of digits of student_id and verify if its even or odd'"
            ],
            "application/vnd.google.colaboratory.intrinsic+json": {
              "type": "string"
            }
          },
          "metadata": {},
          "execution_count": 109
        }
      ]
    },
    {
      "cell_type": "code",
      "execution_count": null,
      "id": "3e7f0e91",
      "metadata": {
        "colab": {
          "base_uri": "https://localhost:8080/"
        },
        "id": "3e7f0e91",
        "outputId": "4a692875-0dfe-48de-d58c-5b27f8674ae1"
      },
      "outputs": [
        {
          "output_type": "stream",
          "name": "stdout",
          "text": [
            "The sum of digits of student_id is :  29\n",
            "The student id : 221530673  is odd\n"
          ]
        }
      ],
      "source": [
        "sum_digits('221530673')"
      ]
    },
    {
      "cell_type": "markdown",
      "source": [
        "Answer 1.8"
      ],
      "metadata": {
        "id": "MoVG-tCQVsOo"
      },
      "id": "MoVG-tCQVsOo"
    },
    {
      "cell_type": "code",
      "execution_count": null,
      "id": "e4a95de6",
      "metadata": {
        "id": "e4a95de6"
      },
      "outputs": [],
      "source": [
        "def indices_sums_10(list1):\n",
        "  ''' It is a function to return indices which sums to 10'''\n",
        "\n",
        "  li = []\n",
        "  b=10\n",
        "  # enumerate through the list1\n",
        "  for i,j in enumerate(list1):\n",
        "      for z,x in enumerate(list1):\n",
        "\n",
        "             if int(x)+int(j) == int(b) and i>z:\n",
        "                     li.append((z,i))\n",
        "\n",
        "  print(li)"
      ]
    },
    {
      "cell_type": "code",
      "source": [
        "indices_sums_10.__doc__"
      ],
      "metadata": {
        "id": "j45RyM8ObqlE"
      },
      "id": "j45RyM8ObqlE",
      "execution_count": null,
      "outputs": []
    },
    {
      "cell_type": "code",
      "execution_count": null,
      "id": "e0c3d9ed",
      "metadata": {
        "id": "e0c3d9ed"
      },
      "outputs": [],
      "source": [
        "x=[1,2,6,8]"
      ]
    },
    {
      "cell_type": "code",
      "execution_count": null,
      "id": "7da6990f",
      "metadata": {
        "colab": {
          "base_uri": "https://localhost:8080/"
        },
        "id": "7da6990f",
        "outputId": "8aa67549-4644-460f-9377-283036894994"
      },
      "outputs": [
        {
          "output_type": "stream",
          "name": "stdout",
          "text": [
            "[(1, 3)]\n"
          ]
        }
      ],
      "source": [
        "indices_sums_10(x)"
      ]
    },
    {
      "cell_type": "markdown",
      "source": [
        "Part 2<br>\n",
        "Answer 2.1"
      ],
      "metadata": {
        "id": "mttL9V6icAAd"
      },
      "id": "mttL9V6icAAd"
    },
    {
      "cell_type": "code",
      "execution_count": null,
      "id": "43d65a36",
      "metadata": {
        "id": "43d65a36"
      },
      "outputs": [],
      "source": [
        "def is_triangle_area(a, b, c):\n",
        "  ''' It is a function to check whether three numbers could form a triangle'''\n",
        "  # To check triangle rule\n",
        "  if((( a + b) > c) and ((a + c ) > b )and ((b + c) > a)):\n",
        "    print('These three numbers could form a triangle')\n",
        "\n",
        "  else:\n",
        "    print('These three numbers could not form a triangle')\n",
        "\n",
        "def is_right_triangle(a, b, c):\n",
        "  ''' It is a function to check whether three numbers could form a right angled triangle'''\n",
        "  sides = [a, b, c]\n",
        "  sides.sort()\n",
        "  # To check sum of squares of two sides is equal to third side\n",
        "  if (sides[0]**2 + sides[1]**2 )== sides[2]**2:\n",
        "    print('These three numbers could form a right angled triangle')\n",
        "  else:\n",
        "    print('These three numbers could not form a right angled triangle')\n",
        "\n",
        "def is_isosceles_triangle(a, b, c):\n",
        "\n",
        "  ''' It is a function to check whether three numbers could form an isosceles triangle'''\n",
        "  # To check if two sides are equal in length\n",
        "  if((a == b) or (a == c) or (b == c)):\n",
        "    print('These three numbers could form a isosceles triangle')\n",
        "  else:\n",
        "    print('These three numbers could not form a isosceles triangle')"
      ]
    },
    {
      "cell_type": "code",
      "source": [
        "is_triangle_area.__doc__"
      ],
      "metadata": {
        "colab": {
          "base_uri": "https://localhost:8080/",
          "height": 35
        },
        "id": "3TmHqqgEgFCG",
        "outputId": "2c4a1469-d650-450c-844b-536e7b373e9d"
      },
      "id": "3TmHqqgEgFCG",
      "execution_count": null,
      "outputs": [
        {
          "output_type": "execute_result",
          "data": {
            "text/plain": [
              "' It is a function to check whether three numbers could form a triangle'"
            ],
            "application/vnd.google.colaboratory.intrinsic+json": {
              "type": "string"
            }
          },
          "metadata": {},
          "execution_count": 150
        }
      ]
    },
    {
      "cell_type": "code",
      "execution_count": null,
      "id": "47ee1519",
      "metadata": {
        "id": "47ee1519",
        "colab": {
          "base_uri": "https://localhost:8080/"
        },
        "outputId": "91a25553-5e32-4ca4-996d-18f695daa18a"
      },
      "outputs": [
        {
          "output_type": "stream",
          "name": "stdout",
          "text": [
            "These three numbers could not form a triangle\n",
            "These three numbers could form a triangle\n",
            "These three numbers could form a triangle\n"
          ]
        }
      ],
      "source": [
        "# Test the given lists\n",
        "list1 = [1, 3, 5]\n",
        "list2 = [12, 35, 37]\n",
        "list3 = [2, 2, 2.8]\n",
        "\n",
        "# unpacking the list\n",
        "a1, b1, c1 = list1\n",
        "a2, b2, c2 = list2\n",
        "a3, b3, c3 = list3\n",
        "\n",
        "# Test if each set of numbers can form a triangle\n",
        "is_triangle_area(a1, b1, c1)\n",
        "is_triangle_area(a2, b2, c2)\n",
        "is_triangle_area(a3, b3, c3)"
      ]
    },
    {
      "cell_type": "code",
      "source": [
        "is_right_triangle.__doc__"
      ],
      "metadata": {
        "colab": {
          "base_uri": "https://localhost:8080/",
          "height": 35
        },
        "id": "YQ8u3On4gM2o",
        "outputId": "175a5cc4-2a60-4c74-e96f-f5a89b857946"
      },
      "id": "YQ8u3On4gM2o",
      "execution_count": null,
      "outputs": [
        {
          "output_type": "execute_result",
          "data": {
            "text/plain": [
              "' It is a function to check whether three numbers could form a right angled triangle'"
            ],
            "application/vnd.google.colaboratory.intrinsic+json": {
              "type": "string"
            }
          },
          "metadata": {},
          "execution_count": 130
        }
      ]
    },
    {
      "cell_type": "code",
      "source": [
        "# Test if each set of numbers can form a right triangle\n",
        "is_right_triangle(a1, b1, c1)\n",
        "is_right_triangle(a2, b2, c2)\n",
        "is_right_triangle(a3, b3, c3)"
      ],
      "metadata": {
        "colab": {
          "base_uri": "https://localhost:8080/"
        },
        "id": "anKmZ-EqfCwX",
        "outputId": "c25cd9bf-24b7-4766-fbbc-b6344445694a"
      },
      "id": "anKmZ-EqfCwX",
      "execution_count": null,
      "outputs": [
        {
          "output_type": "stream",
          "name": "stdout",
          "text": [
            "These three numbers could not form a right angled triangle\n",
            "These three numbers could form a right angled triangle\n",
            "These three numbers could not form a right angled triangle\n"
          ]
        }
      ]
    },
    {
      "cell_type": "code",
      "source": [
        "is_isosceles_triangle.__doc__"
      ],
      "metadata": {
        "colab": {
          "base_uri": "https://localhost:8080/",
          "height": 35
        },
        "id": "HfguDlA3gSzE",
        "outputId": "276c4ec8-51a8-4323-e360-85b23b4b35ad"
      },
      "id": "HfguDlA3gSzE",
      "execution_count": null,
      "outputs": [
        {
          "output_type": "execute_result",
          "data": {
            "text/plain": [
              "' It is a function to check whether three numbers could form isosceles triangle'"
            ],
            "application/vnd.google.colaboratory.intrinsic+json": {
              "type": "string"
            }
          },
          "metadata": {},
          "execution_count": 131
        }
      ]
    },
    {
      "cell_type": "code",
      "source": [
        "\n",
        "# Test if each set of numbers can form an isosceles triangle\n",
        "is_isosceles_triangle(a1, b1, c1)\n",
        "is_isosceles_triangle(a2, b2, c2)\n",
        "is_isosceles_triangle(a3, b3, c3)"
      ],
      "metadata": {
        "colab": {
          "base_uri": "https://localhost:8080/"
        },
        "id": "smVcL139f7eI",
        "outputId": "34b1b24f-0ff1-42af-8461-33d7f6ca6b1e"
      },
      "id": "smVcL139f7eI",
      "execution_count": null,
      "outputs": [
        {
          "output_type": "stream",
          "name": "stdout",
          "text": [
            "These three numbers could not form a isosceles triangle\n",
            "These three numbers could not form a isosceles triangle\n",
            "These three numbers could form a isosceles triangle\n"
          ]
        }
      ]
    },
    {
      "cell_type": "markdown",
      "source": [
        "Answer 2.2"
      ],
      "metadata": {
        "id": "xu1sIw9zlX6s"
      },
      "id": "xu1sIw9zlX6s"
    },
    {
      "cell_type": "code",
      "source": [
        "def find_area(a,b,c):\n",
        "  ''' It is a function to calculate area of traingle '''\n",
        "  s=(a+b+c)/2\n",
        "  Area=int((s*(s-a)*(s-b)*(s-c))**(1/2))\n",
        "  print('The area of triangle is : ',Area)\n"
      ],
      "metadata": {
        "id": "otIDeKAvjuur"
      },
      "id": "otIDeKAvjuur",
      "execution_count": null,
      "outputs": []
    },
    {
      "cell_type": "code",
      "source": [
        "find_area.__doc__"
      ],
      "metadata": {
        "colab": {
          "base_uri": "https://localhost:8080/",
          "height": 35
        },
        "id": "hOu2O_cxk6Hm",
        "outputId": "c4d42a52-63c1-4a7b-e211-969635afcdfa"
      },
      "id": "hOu2O_cxk6Hm",
      "execution_count": null,
      "outputs": [
        {
          "output_type": "execute_result",
          "data": {
            "text/plain": [
              "' It is a function to calculate area of traingle '"
            ],
            "application/vnd.google.colaboratory.intrinsic+json": {
              "type": "string"
            }
          },
          "metadata": {},
          "execution_count": 155
        }
      ]
    },
    {
      "cell_type": "code",
      "source": [
        "# Test the given lists\n",
        "list2 = [12, 35, 37]\n",
        "list3 = [2, 2, 2.8]\n",
        "\n",
        "# unpacking the list\n",
        "\n",
        "a2, b2, c2 = list2\n",
        "a3, b3, c3 = list3"
      ],
      "metadata": {
        "id": "sIIg7yQ4jllt"
      },
      "id": "sIIg7yQ4jllt",
      "execution_count": null,
      "outputs": []
    },
    {
      "cell_type": "code",
      "source": [
        "find_area(a2,b2,c2)\n",
        "find_area(a3,b3,c3)"
      ],
      "metadata": {
        "colab": {
          "base_uri": "https://localhost:8080/"
        },
        "id": "HU3-k7KrkeEJ",
        "outputId": "395ea524-8a39-45a5-ecd8-7ca25203ba21"
      },
      "id": "HU3-k7KrkeEJ",
      "execution_count": null,
      "outputs": [
        {
          "output_type": "stream",
          "name": "stdout",
          "text": [
            "The area of triangle is :  210\n",
            "The area of triangle is :  1\n"
          ]
        }
      ]
    }
  ],
  "metadata": {
    "kernelspec": {
      "display_name": "Python 3 (ipykernel)",
      "language": "python",
      "name": "python3"
    },
    "language_info": {
      "codemirror_mode": {
        "name": "ipython",
        "version": 3
      },
      "file_extension": ".py",
      "mimetype": "text/x-python",
      "name": "python",
      "nbconvert_exporter": "python",
      "pygments_lexer": "ipython3",
      "version": "3.9.12"
    },
    "colab": {
      "provenance": [],
      "include_colab_link": true
    }
  },
  "nbformat": 4,
  "nbformat_minor": 5
}